{
 "cells": [
  {
   "cell_type": "code",
   "execution_count": 21,
   "id": "5a60d2ec",
   "metadata": {},
   "outputs": [],
   "source": [
    "import numpy as np\n",
    "import pandas as pd\n",
    "import matplotlib.pyplot as plt"
   ]
  },
  {
   "cell_type": "code",
   "execution_count": 22,
   "id": "f5fa19f9",
   "metadata": {},
   "outputs": [],
   "source": [
    "# data source \n",
    "url = 'https://raw.githubusercontent.com/ruiwu1990/CSCI_4120/master/KNN/iris.data'\n",
    "df = pd.read_csv(url, header=None)"
   ]
  },
  {
   "cell_type": "code",
   "execution_count": 23,
   "id": "7bce520c",
   "metadata": {},
   "outputs": [
    {
     "data": {
      "text/html": [
       "<div>\n",
       "<style scoped>\n",
       "    .dataframe tbody tr th:only-of-type {\n",
       "        vertical-align: middle;\n",
       "    }\n",
       "\n",
       "    .dataframe tbody tr th {\n",
       "        vertical-align: top;\n",
       "    }\n",
       "\n",
       "    .dataframe thead th {\n",
       "        text-align: right;\n",
       "    }\n",
       "</style>\n",
       "<table border=\"1\" class=\"dataframe\">\n",
       "  <thead>\n",
       "    <tr style=\"text-align: right;\">\n",
       "      <th></th>\n",
       "      <th>0</th>\n",
       "      <th>1</th>\n",
       "      <th>2</th>\n",
       "      <th>3</th>\n",
       "      <th>4</th>\n",
       "    </tr>\n",
       "  </thead>\n",
       "  <tbody>\n",
       "    <tr>\n",
       "      <th>0</th>\n",
       "      <td>5.1</td>\n",
       "      <td>3.5</td>\n",
       "      <td>1.4</td>\n",
       "      <td>0.2</td>\n",
       "      <td>Iris-setosa</td>\n",
       "    </tr>\n",
       "    <tr>\n",
       "      <th>1</th>\n",
       "      <td>4.9</td>\n",
       "      <td>3.0</td>\n",
       "      <td>1.4</td>\n",
       "      <td>0.2</td>\n",
       "      <td>Iris-setosa</td>\n",
       "    </tr>\n",
       "    <tr>\n",
       "      <th>2</th>\n",
       "      <td>4.7</td>\n",
       "      <td>3.2</td>\n",
       "      <td>1.3</td>\n",
       "      <td>0.2</td>\n",
       "      <td>Iris-setosa</td>\n",
       "    </tr>\n",
       "    <tr>\n",
       "      <th>3</th>\n",
       "      <td>4.6</td>\n",
       "      <td>3.1</td>\n",
       "      <td>1.5</td>\n",
       "      <td>0.2</td>\n",
       "      <td>Iris-setosa</td>\n",
       "    </tr>\n",
       "    <tr>\n",
       "      <th>4</th>\n",
       "      <td>5.0</td>\n",
       "      <td>3.6</td>\n",
       "      <td>1.4</td>\n",
       "      <td>0.2</td>\n",
       "      <td>Iris-setosa</td>\n",
       "    </tr>\n",
       "  </tbody>\n",
       "</table>\n",
       "</div>"
      ],
      "text/plain": [
       "     0    1    2    3            4\n",
       "0  5.1  3.5  1.4  0.2  Iris-setosa\n",
       "1  4.9  3.0  1.4  0.2  Iris-setosa\n",
       "2  4.7  3.2  1.3  0.2  Iris-setosa\n",
       "3  4.6  3.1  1.5  0.2  Iris-setosa\n",
       "4  5.0  3.6  1.4  0.2  Iris-setosa"
      ]
     },
     "execution_count": 23,
     "metadata": {},
     "output_type": "execute_result"
    }
   ],
   "source": [
    "df.head()"
   ]
  },
  {
   "cell_type": "code",
   "execution_count": 24,
   "id": "4fbb87c4",
   "metadata": {},
   "outputs": [],
   "source": [
    "# splits the data into feature and response variables\n",
    "X = df.drop([4], axis = 1)\n",
    "y = df[4]"
   ]
  },
  {
   "cell_type": "code",
   "execution_count": 25,
   "id": "a20811f0",
   "metadata": {},
   "outputs": [],
   "source": [
    "from sklearn.neighbors import KNeighborsClassifier\n",
    "from sklearn.metrics import accuracy_score\n",
    "from sklearn.model_selection import train_test_split "
   ]
  },
  {
   "cell_type": "code",
   "execution_count": 26,
   "id": "51919a53",
   "metadata": {},
   "outputs": [],
   "source": [
    "# array of k_values from 1 to 20 \n",
    "k_values = np.arange(1,21)\n",
    "\n",
    "# empty array that will keep track of accuracy rate \n",
    "test_accuracy_rate = np.array([])\n",
    "\n",
    "# loop that iterates from 1 to 20\n",
    "for k in k_values: \n",
    "   \n",
    "    # total_accuracy that set back to 0 between each iteration for k  \n",
    "    total_accuracy = 0\n",
    "    \n",
    "    # loop that will averages 5 accruracy scores using current k value \n",
    "    for iteration in range(1,6):\n",
    "        # randomly splits data with test size being 33% and training size 67%\n",
    "        X_train, X_test, y_train, y_test = train_test_split(X, y, test_size=0.33)\n",
    "        # creates a knn classifier with current k value\n",
    "        knn_model = KNeighborsClassifier(n_neighbors = k) \n",
    "        # trains the model with x training data and y training data\n",
    "        knn_model.fit(X_train, y_train)\n",
    "        # predicts y values using trained model and x test data\n",
    "        y_pred_test = knn_model.predict(X_test)\n",
    "        # takes the total sum of 5 different accuracy scores based on y test values and predicted y values \n",
    "        total_accuracy += accuracy_score(y_test, y_pred_test)\n",
    "    # takes the average of total accuracy score of 5 different acuracy scores\n",
    "    test_accuracy_rate = np.append(test_accuracy_rate, (total_accuracy / 5) * 100)  \n",
    "    \n"
   ]
  },
  {
   "cell_type": "code",
   "execution_count": 27,
   "id": "6dc2b445",
   "metadata": {
    "scrolled": true
   },
   "outputs": [
    {
     "data": {
      "image/png": "[encoded data removed]",
      "text/plain": [
       "<Figure size 432x288 with 1 Axes>"
      ]
     },
     "metadata": {
      "needs_background": "light"
     },
     "output_type": "display_data"
    }
   ],
   "source": [
    "fig, ax = plt.subplots()\n",
    "# plots the list of k values and the list test accuracy rate\n",
    "ax.plot(k_values, test_accuracy_rate)\n",
    "# sets the x axis by calculating a range of values between 1 to 20 with distance of 1 apart\n",
    "ax.xaxis.set_ticks(np.arange(1, 21, 1))\n",
    "plt.title(\"K-values vs. Accuracy\")\n",
    "plt.xlabel(\"k Value\")\n",
    "plt.ylabel(\"Accuracy\")\n",
    "# sets y axis by dynamically calculating 1.5 the min and max of y values\n",
    "IQR = np.max(test_accuracy_rate) - np.min(test_accuracy_rate)\n",
    "minLimit = np.min(test_accuracy_rate) - (IQR * 1.5)\n",
    "maxLimit = np.max(test_accuracy_rate) + (IQR * 1.5)\n",
    "plt.ylim(minLimit, maxLimit)\n",
    "# displays grid for graph\n",
    "plt.grid(True)\n",
    "plt.show()"
   ]
  },
  {
   "cell_type": "code",
   "execution_count": 8,
   "id": "7ebf3e9d",
   "metadata": {},
   "outputs": [],
   "source": []
  },
  {
   "cell_type": "code",
   "execution_count": null,
   "id": "e31b2e16",
   "metadata": {},
   "outputs": [],
   "source": []
  }
 ],
 "metadata": {
  "kernelspec": {
   "display_name": "Python 3",
   "language": "python",
   "name": "python3"
  },
  "language_info": {
   "codemirror_mode": {
    "name": "ipython",
    "version": 3
   },
   "file_extension": ".py",
   "mimetype": "text/x-python",
   "name": "python",
   "nbconvert_exporter": "python",
   "pygments_lexer": "ipython3",
   "version": "3.8.8"
  },
  "vscode": {
   "interpreter": {
    "hash": "096755822980b92dcd3645f22adf69d40928073a60ab7e2b3b8bdf090daf0052"
   }
  }
 },
 "nbformat": 4,
 "nbformat_minor": 5
}
