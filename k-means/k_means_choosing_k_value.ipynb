{
 "cells": [
  {
   "cell_type": "markdown",
   "id": "ab73764d",
   "metadata": {},
   "source": [
    "## How do we measure goodness of fit of our model?"
   ]
  },
  {
   "cell_type": "markdown",
   "id": "7706a26c",
   "metadata": {},
   "source": [
    "how do we measure goodness of fit? <br>\n",
    "more specifically how can we tell if 3 clusters is the best number of clusters, we don't have a y label to compare how correct we are  "
   ]
  },
  {
   "cell_type": "markdown",
   "id": "7e5f25d0",
   "metadata": {},
   "source": [
    "One way is to measure the sum of the distance from points to cluster centers. \n",
    "We can punish distances that are really far away by observing SSqDistance similar to MSE or RSE"
   ]
  },
  {
   "cell_type": "markdown",
   "id": "70342d86",
   "metadata": {},
   "source": [
    "we meassure the sum of the sqaured distance from points to the cluster center"
   ]
  },
  {
   "cell_type": "markdown",
   "id": "1595b3c6",
   "metadata": {},
   "source": [
    "then we take K+1. We measure the sum of squared distance from points tohe cluster center. SSD would go to zero once k is equal to number of points, so the distance for each point would be 0. "
   ]
  },
  {
   "cell_type": "markdown",
   "id": "a87e4f82",
   "metadata": {},
   "source": [
    "We want to keep track of SSD value for a range of different k values. Once the rate of reduction in SSD begins to decline this signifies that adding an extra cluster is not obtaining enough clarity of cluster \n",
    "by adding an extra cluster is not obtaining enough clairty of cluster separation to justify increasing K. "
   ]
  },
  {
   "cell_type": "markdown",
   "id": "7aa212a3",
   "metadata": {},
   "source": [
    "we can visualize this further by using the elbow method since we will track where deccrease in SSD begins to flatten out cmpared to increasing k values. so on the y axis we chart the ssd meanwhile on x axis we measure the k values.  "
   ]
  },
  {
   "cell_type": "markdown",
   "id": "3e463865",
   "metadata": {},
   "source": [
    "there is no 100% correct answer, since the cut off is determined where it makes \"sense\". Consult a domain expert on where to cut off.   "
   ]
  }
 ],
 "metadata": {
  "kernelspec": {
   "display_name": "Python 3",
   "language": "python",
   "name": "python3"
  },
  "language_info": {
   "codemirror_mode": {
    "name": "ipython",
    "version": 3
   },
   "file_extension": ".py",
   "mimetype": "text/x-python",
   "name": "python",
   "nbconvert_exporter": "python",
   "pygments_lexer": "ipython3",
   "version": "3.8.8"
  }
 },
 "nbformat": 4,
 "nbformat_minor": 5
}
