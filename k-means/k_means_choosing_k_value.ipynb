{
 "cells": [
  {
   "cell_type": "markdown",
   "id": "ab73764d",
   "metadata": {},
   "source": [
    "## How do we measure goodness of fit of our model?"
   ]
  },
  {
   "cell_type": "markdown",
   "id": "7706a26c",
   "metadata": {},
   "source": [
    "how do we measure goodness of fit? <br>\n",
    "more specifically how can we tell if 3 clusters is the best number of clusters, since we don't have a y label to compare how correct we are  "
   ]
  },
  {
   "cell_type": "markdown",
   "id": "5ac77e3d",
   "metadata": {},
   "source": [
    "One way is to measure the sum of the distance from points to cluster centers. \n",
    "We can then punish distances that are really far away by observing Sum of Square Distance (SSD) similar other measure are Mean Square Error or Residual Square Error. \n",
    "\n",
    "We choose a K, the number of cluster centers, measure the sum of the sqaured distance from points to the cluster centers. Then repeat by taking K+1 cluster centers. SSD would go to zero once K is equal to number of points, so the distance for each point would be 0. "
   ]
  },
  {
   "cell_type": "markdown",
   "id": "1293aae9",
   "metadata": {},
   "source": [
    "We want to keep track of SSD value for a range of different K values (elbow method). Once the rate of reduction in SSD begins to decline this signifies that adding an extra cluster is not obtaining enough clarity of cluster to justify increasing K. "
   ]
  },
  {
   "cell_type": "markdown",
   "id": "1d3b27bc",
   "metadata": {},
   "source": [
    "we can visualize this further by using a line chart by compare K values vs SSD values. When we visually see a decrease in the rate of change or when SSD vs K-values begins to flatten out we can say that range of values is \"reasonable\" K value.\n",
    "\n",
    "there is no 100% correct answer, since the cut off is determined where it makes \"sense\". Consult a domain expert on where to cut off.   "
   ]
  }
 ],
 "metadata": {
  "kernelspec": {
   "display_name": "Python 3",
   "language": "python",
   "name": "python3"
  },
  "language_info": {
   "codemirror_mode": {
    "name": "ipython",
    "version": 3
   },
   "file_extension": ".py",
   "mimetype": "text/x-python",
   "name": "python",
   "nbconvert_exporter": "python",
   "pygments_lexer": "ipython3",
   "version": "3.8.8"
  }
 },
 "nbformat": 4,
 "nbformat_minor": 5
}
